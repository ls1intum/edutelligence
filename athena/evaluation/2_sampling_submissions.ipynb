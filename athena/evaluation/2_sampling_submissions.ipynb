{
 "cells": [
  {
   "cell_type": "markdown",
   "id": "0",
   "metadata": {},
   "source": [
    "## Sampling Submissions\n",
    "\n",
    "Please adapt the `EXERCISE_SAMPLES` dictionary to specify the number of samples for each exercise. The dictionary maps `EXERCISE_IDS` (see 1_sampling_exercises) to the `number of samples`.\n"
   ]
  },
  {
   "cell_type": "code",
   "execution_count": null,
   "id": "1",
   "metadata": {},
   "outputs": [],
   "source": [
    "EXERCISE_SAMPLES = {4066: 25, 642: 25, 544: 25, 506: 25}"
   ]
  },
  {
   "cell_type": "markdown",
   "id": "2",
   "metadata": {},
   "source": [
    "### Systematic Random Sampling\n",
    "The goal is to obtain a representative sample of submissions for each exercise.\n",
    "The script uses **systematic random sampling** to achieve this. In systematic random sampling, we sort the submissions by score and then select submissions at regular intervals. The interval is calculated based on the total number of submissions and the required sample size."
   ]
  },
  {
   "cell_type": "code",
   "execution_count": null,
   "id": "3",
   "metadata": {},
   "outputs": [],
   "source": [
    "from athena.evaluation.service.sampling_service import systematic_random_sampling\n",
    "import pandas as pd\n",
    "\n",
    "# Load the data\n",
    "sampled_exercises = pd.read_csv(\"data/1_exercises/exercises.csv\")\n",
    "\n",
    "# Perform sampling\n",
    "sampled_submissions = systematic_random_sampling(\n",
    "    sampled_exercises, EXERCISE_SAMPLES, random_seed=42\n",
    ")"
   ]
  },
  {
   "cell_type": "markdown",
   "id": "4",
   "metadata": {},
   "source": [
    "### Save the Sampled Submissions\n",
    "Save the sampled submissions to a CSV and JSON file for the next steps in the evaluation process.\n",
    "You can also retrieve the sampled submissions from an existing CSV file."
   ]
  },
  {
   "cell_type": "code",
   "execution_count": null,
   "id": "5",
   "metadata": {},
   "outputs": [],
   "source": [
    "from athena.evaluation.service.json_service import (\n",
    "    group_exercise_data,\n",
    "    exercises_to_json,\n",
    ")\n",
    "\n",
    "sampled_submissions.to_csv(\"data/2_submissions/submissions.csv\", index=False)\n",
    "# sampled_submissions = pd.read_csv(\"data/2_submissions/submissions.csv\")\n",
    "\n",
    "exercises = group_exercise_data(sampled_submissions, \"Tutor\")\n",
    "exercises_to_json(exercises, \"data/2_submissions/json_files\")"
   ]
  }
 ],
 "metadata": {
  "jupytext": {
   "formats": "ipynb,py:percent"
  },
  "kernelspec": {
   "display_name": "Python 3",
   "language": "python",
   "name": "python3"
  }
 },
 "nbformat": 4,
 "nbformat_minor": 5
}
