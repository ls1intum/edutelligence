{
 "cells": [
  {
   "cell_type": "markdown",
   "id": "82de8d7c4572a180",
   "metadata": {},
   "source": [
    "## Sampling Submissions\n",
    "\n",
    "Please adapt the `EXERCISE_SAMPLES` dictionary to specify the number of samples for each exercise. The dictionary maps `EXERCISE_IDS` (see 1_sampling_exercises) to the `number of samples`.\n"
   ]
  },
  {
   "cell_type": "code",
   "execution_count": null,
   "id": "a5951a4459cac0f",
   "metadata": {
    "ExecuteTime": {
     "end_time": "2025-03-31T07:31:53.589099Z",
     "start_time": "2025-03-31T07:31:53.585014Z"
    }
   },
   "outputs": [],
   "source": [
    "EXERCISE_SAMPLES = {4066: 25, 642: 25, 544: 25, 506: 25}"
   ]
  },
  {
   "cell_type": "markdown",
   "id": "44d06ad576cba493",
   "metadata": {},
   "source": [
    "### Systematic Random Sampling\n",
    "The goal is to obtain a representative sample of submissions for each exercise.\n",
    "The script uses systematic random sampling to achieve this. In systematic random sampling, we sort the submissions by score and then select submissions at regular intervals. The interval is calculated based on the total number of submissions and the required sample size."
   ]
  },
  {
   "cell_type": "code",
   "execution_count": null,
   "id": "abb671ead11c448f",
   "metadata": {
    "ExecuteTime": {
     "end_time": "2025-03-31T07:31:54.139337Z",
     "start_time": "2025-03-31T07:31:53.695057Z"
    }
   },
   "outputs": [],
   "source": [
    "from athena.evaluation.service.sampling_service import systematic_random_sampling\n",
    "import pandas as pd\n",
    "\n",
    "# Load the data\n",
    "sampled_exercises = pd.read_csv(\"data/1_exercises/exercises.csv\")\n",
    "\n",
    "# Perform sampling\n",
    "sampled_submissions = systematic_random_sampling(sampled_exercises, EXERCISE_SAMPLES, random_seed=42)"
   ]
  },
  {
   "cell_type": "markdown",
   "id": "6b37c8938aa4fd68",
   "metadata": {},
   "source": [
    "### Save the Sampled Submissions\n",
    "Save the sampled submissions to a CSV and JSON file for the next steps in the evaluation process.\n",
    "You can also retrieve the sampled submissions from an existing CSV file."
   ]
  },
  {
   "cell_type": "code",
   "execution_count": null,
   "id": "93c770e1",
   "metadata": {
    "ExecuteTime": {
     "end_time": "2025-03-31T07:31:54.310908Z",
     "start_time": "2025-03-31T07:31:54.150361Z"
    }
   },
   "outputs": [],
   "source": [
    "from athena.evaluation.service.json_service import group_exercise_data, exercises_to_json\n",
    "\n",
    "sampled_submissions.to_csv(\"data/2_submissions/submissions.csv\", index=False)\n",
    "# sampled_submissions = pd.read_csv(\"data/2_submissions/submissions.csv\")\n",
    "\n",
    "exercises = group_exercise_data(sampled_submissions, \"Tutor\")\n",
    "exercises_to_json(exercises, \"data/2_submissions/json_files\")"
   ]
  }
 ],
 "metadata": {
  "jupytext": {
   "formats": "ipynb,py:percent"
  },
  "kernelspec": {
   "display_name": "Python 3",
   "language": "python",
   "name": "python3"
  }
 },
 "nbformat": 4,
 "nbformat_minor": 5
}
