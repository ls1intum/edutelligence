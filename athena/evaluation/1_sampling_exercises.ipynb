{
 "cells": [
  {
   "cell_type": "markdown",
   "id": "dcca46b0c9105c1",
   "metadata": {},
   "source": [
    "## Get the data from the database\n",
    "Sample the exercise IDs manually from the available exercises and adapt the `EXERCISE_IDS` variable accordingly.\n",
    "The `fetch_data_from_db` function fetches the data from the database for the specified exercise IDs."
   ]
  },
  {
   "cell_type": "code",
   "execution_count": null,
   "id": "ce12cb557da6fe73",
   "metadata": {
    "ExecuteTime": {
     "end_time": "2025-03-31T07:19:35.064493Z",
     "start_time": "2025-03-31T07:19:34.618336Z"
    }
   },
   "outputs": [],
   "source": [
    "from athena.evaluation.service.db_service import fetch_data_from_db\n",
    "from langid import classify\n",
    "\n",
    "EXERCISE_IDS = {4066, 642, 544, 506}\n",
    "data = fetch_data_from_db(EXERCISE_IDS)"
   ]
  },
  {
   "cell_type": "markdown",
   "id": "92db9f04aba98c9a",
   "metadata": {},
   "source": [
    "## Data Preprocessing\n",
    "The data preprocessing steps include:\n",
    "- Dropping rows with missing or invalid data.\n",
    "- Filtering out non-English submissions.\n",
    "\n",
    "You can adapt the data preprocessing steps based on the requirements of your evaluation."
   ]
  },
  {
   "cell_type": "markdown",
   "id": "f2ba6aaa05d7c45c",
   "metadata": {},
   "source": [
    "### Drop Rows with Missing or Invalid Data\n",
    "Drops the rows with missing data in the `submission_text` and `result_score` columns. Also, filters out submissions with no text."
   ]
  },
  {
   "cell_type": "code",
   "execution_count": null,
   "id": "9c18b450ab913621",
   "metadata": {
    "ExecuteTime": {
     "end_time": "2025-03-31T07:19:35.085188Z",
     "start_time": "2025-03-31T07:19:35.067543Z"
    }
   },
   "outputs": [],
   "source": [
    "data = data.dropna(subset=[\"submission_text\", \"result_score\"])\n",
    "data = data[data[\"submission_text\"].str.strip() != \"\"]"
   ]
  },
  {
   "cell_type": "markdown",
   "id": "263edf1b4923d42a",
   "metadata": {},
   "source": [
    "### Filter Out Non-English Submissions\n",
    "Filters out non-English submissions using the `langid` library."
   ]
  },
  {
   "cell_type": "code",
   "execution_count": null,
   "id": "923e1a2257ffc0d3",
   "metadata": {
    "ExecuteTime": {
     "end_time": "2025-03-31T07:19:39.462681Z",
     "start_time": "2025-03-31T07:19:35.097899Z"
    }
   },
   "outputs": [],
   "source": [
    "unique_texts = data[\"submission_text\"].unique()\n",
    "classification_results = {text: classify(text)[0] == \"en\" for text in unique_texts}\n",
    "\n",
    "data[\"is_english\"] = data[\"submission_text\"].map(classification_results)\n",
    "data = data[data[\"is_english\"]]\n",
    "\n",
    "data = data.drop(columns=[\"is_english\"])"
   ]
  },
  {
   "cell_type": "markdown",
   "id": "2378102b58be762b",
   "metadata": {},
   "source": [
    "## Save the Sampled Exercises in a CSV File\n",
    "Saves the sampled exercises to a CSV file for the next steps in the evaluation process.\n",
    "You can also retrieve the sampled exercises from an existing CSV file using the `read_csv` command."
   ]
  },
  {
   "cell_type": "code",
   "execution_count": null,
   "id": "c0ff3303",
   "metadata": {
    "ExecuteTime": {
     "end_time": "2025-03-31T07:19:40.023215Z",
     "start_time": "2025-03-31T07:19:39.474273Z"
    }
   },
   "outputs": [],
   "source": [
    "data.to_csv(\"data/1_exercises/exercises.csv\", index=False)\n",
    "# data = pd.read_csv(\"data/1_exercises/exercises.csv\")"
   ]
  }
 ],
 "metadata": {
  "jupytext": {
   "formats": "ipynb,py:percent"
  },
  "kernelspec": {
   "display_name": "Python 3",
   "language": "python",
   "name": "python3"
  }
 },
 "nbformat": 4,
 "nbformat_minor": 5
}
