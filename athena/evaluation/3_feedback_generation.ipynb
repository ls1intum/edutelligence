{
 "cells": [
  {
   "cell_type": "markdown",
   "id": "0",
   "metadata": {},
   "source": [
    "## Feedback Generation"
   ]
  },
  {
   "cell_type": "markdown",
   "id": "1",
   "metadata": {},
   "source": [
    "### Generate Feedback Suggestions\n",
    "Upload the json files from `data/2_submissions/json_files` to the playground. In evaluation mode, generate feedback for each exercise and export the results. Make sure that the configuration names for feedback generation do not contain underscores '_'. Also make sure that the configuration names are unique for different feedback types but the same across different exercises.\n",
    "\n",
    "The downloaded json files should have the following naming scheme:\n",
    "`text_results_<Configuration name (e.g.: LLM)>_<...>`\n",
    "\n",
    "**Do not change the names of the downloaded files!**\n",
    "\n",
    "Save these files in the `data/3_feedback_suggestions/feedback_suggestions` directory."
   ]
  },
  {
   "cell_type": "markdown",
   "id": "2",
   "metadata": {},
   "source": [
    "### Read Feedback Suggestions\n",
    "Once you have saved the feedback suggestion files in the `data/3_feedback_suggestions/feedback_suggestions` directory, run the following cell to read the feedback suggestions from the files and to add them to the sampled submissions."
   ]
  },
  {
   "cell_type": "code",
   "execution_count": null,
   "id": "3",
   "metadata": {},
   "outputs": [],
   "source": [
    "from service.json_service import (\n",
    "    read_result_files_to_dataframe,\n",
    "    add_feedback_suggestions_to_data,\n",
    "    fill_missing_feedback_with_tutor_feedback,\n",
    ")\n",
    "import pandas as pd\n",
    "\n",
    "sampled_submissions = pd.read_csv(\"data/2_submissions/submissions.csv\")\n",
    "feedback_suggestions = read_result_files_to_dataframe(\n",
    "    \"data/3_feedback_suggestions/feedback_suggestions\"\n",
    ")\n",
    "\n",
    "sampled_submissions_with_feedback = add_feedback_suggestions_to_data(\n",
    "    sampled_submissions, feedback_suggestions\n",
    ")\n",
    "sampled_submissions_with_feedback = fill_missing_feedback_with_tutor_feedback(\n",
    "    sampled_submissions_with_feedback\n",
    ")\n",
    "\n",
    "sampled_submissions_with_feedback = sampled_submissions_with_feedback.assign(\n",
    "    feedback_text=None\n",
    ")"
   ]
  },
  {
   "cell_type": "markdown",
   "id": "4",
   "metadata": {},
   "source": [
    "### Save the Feedback Suggestions\n",
    "Save the feedback suggestions to a CSV and JSON file for the next steps in the evaluation process.\n",
    "You can also retrieve the feedback suggestions from an existing CSV file."
   ]
  },
  {
   "cell_type": "code",
   "execution_count": null,
   "id": "5",
   "metadata": {},
   "outputs": [],
   "source": [
    "from service.json_service import (\n",
    "    group_exercise_data,\n",
    "    exercises_to_json,\n",
    ")\n",
    "\n",
    "sampled_submissions_with_feedback.to_csv(\n",
    "    \"data/3_feedback_suggestions/feedback_suggestions.csv\", index=False\n",
    ")\n",
    "# sampled_submissions_with_feedback = pd.read_csv(\"data/3_feedback_suggestions/feedback_suggestions.csv\")\n",
    "\n",
    "exercises = group_exercise_data(sampled_submissions_with_feedback)\n",
    "exercises_to_json(exercises, \"data/3_feedback_suggestions/json_files\")"
   ]
  }
 ],
 "metadata": {
  "jupytext": {
   "formats": "ipynb,py:percent"
  },
  "kernelspec": {
   "display_name": "evaluation-py3.12",
   "language": "python",
   "name": "python3"
  },
  "language_info": {
   "codemirror_mode": {
    "name": "ipython",
    "version": 3
   },
   "file_extension": ".py",
   "mimetype": "text/x-python",
   "name": "python",
   "nbconvert_exporter": "python",
   "pygments_lexer": "ipython3",
   "version": "3.12.11"
  }
 },
 "nbformat": 4,
 "nbformat_minor": 5
}
