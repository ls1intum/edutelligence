{
 "cells": [
  {
   "cell_type": "markdown",
   "id": "aa534bc275bdf0d4",
   "metadata": {},
   "source": [
    "## Database Setup\n",
    "This notebook contains the necessary steps to set up the MySQL database from the provided dump file."
   ]
  },
  {
   "cell_type": "markdown",
   "id": "9371c0f454b88c1e",
   "metadata": {},
   "source": [
    "### Setting Variables\n",
    "The first step is to set the necessary variables.\n",
    "These variables include the MySQL container name, database name, user, password, host, port, and the path to the dump file.\n",
    "Set these variables in the `.env` file (You can copy the `.env.example` file and rename it to `.env`).\n",
    "Make sure to update the `DUMP_FILE_PATH` or to rename the sql file."
   ]
  },
  {
   "cell_type": "code",
   "execution_count": null,
   "id": "f5b77e0459aec8e3",
   "metadata": {
    "jupyter": {
     "is_executing": true
    }
   },
   "outputs": [],
   "source": [
    "import os\n",
    "from dotenv import load_dotenv\n",
    "\n",
    "DUMP_FILE_PATH = \"data/0_db_dump/dump.sql\"\n",
    "\n",
    "load_dotenv()\n",
    "MYSQL_CONTAINER_NAME = os.getenv(\"DB_CONTAINER_NAME\")\n",
    "MYSQL_DATABASE = os.getenv(\"DB_NAME\")\n",
    "MYSQL_USER = os.getenv(\"DB_USER\")\n",
    "MYSQL_PASSWORD = os.getenv(\"DB_PASSWORD\")\n",
    "MYSQL_HOST = os.getenv(\"DB_HOST\")\n",
    "MYSQL_PORT = os.getenv(\"DB_PORT\")"
   ]
  },
  {
   "cell_type": "markdown",
   "id": "d9aede030b9ee984",
   "metadata": {},
   "source": [
    "### Database Container Initialization\n",
    "Initialize the MySQL database container. Wait for the container to be up and running before proceeding to the next step."
   ]
  },
  {
   "cell_type": "code",
   "execution_count": null,
   "id": "f1d2d563ac3aa70",
   "metadata": {
    "ExecuteTime": {
     "end_time": "2025-03-24T08:43:51.827667Z",
     "start_time": "2025-03-24T08:43:51.634146Z"
    }
   },
   "outputs": [],
   "source": [
    "import subprocess\n",
    "\n",
    "command = [\"docker\", \"run\", \"--name\", MYSQL_CONTAINER_NAME]\n",
    "command.extend([\"-e\", f\"MYSQL_ROOT_PASSWORD={MYSQL_PASSWORD}\"] if MYSQL_PASSWORD else [\"-e\", \"MYSQL_ALLOW_EMPTY_PASSWORD=yes\"])\n",
    "command.extend([\"-p\", f\"{MYSQL_PORT}:3306\", \"-d\", \"mysql:8.0\"])\n",
    "\n",
    "subprocess.run(command, check=True)\n"
   ]
  },
  {
   "cell_type": "markdown",
   "id": "b0f7efeeda615102",
   "metadata": {},
   "source": [
    "### Database Configuration\n",
    "The next step is to configure the MySQL database.\n",
    "This configuration includes creating the database and setting the necessary global variables.\n",
    "Not setting the global variables may result in errors during the restoration process due to the large size of the dump file."
   ]
  },
  {
   "cell_type": "code",
   "execution_count": null,
   "id": "e2f7d79fa90f451",
   "metadata": {
    "ExecuteTime": {
     "end_time": "2025-03-24T08:44:08.880057Z",
     "start_time": "2025-03-24T08:44:08.793842Z"
    }
   },
   "outputs": [],
   "source": [
    "config_command = (\n",
    "    f\"docker exec -i {MYSQL_CONTAINER_NAME} mysql -u{MYSQL_USER} -e \"\n",
    "    f\"\\\"CREATE DATABASE IF NOT EXISTS {MYSQL_DATABASE} DEFAULT CHARACTER SET utf8mb4 COLLATE utf8mb4_unicode_ci;\\\" \"\n",
    "    f\"-e \\\"SET GLOBAL net_buffer_length=1000000;\\\" \"\n",
    "    f\"-e \\\"SET GLOBAL max_allowed_packet=1000000000;\\\" \"\n",
    ")\n",
    "success_status = os.system(config_command)\n",
    "\n",
    "print(\"Database configuration complete!\" if success_status == 0 else \"Database configuration failed!\")"
   ]
  },
  {
   "cell_type": "markdown",
   "id": "ab6e2414377714ea",
   "metadata": {},
   "source": [
    "### Database Restoration\n",
    "The next step is to restore the database from the provided dump file.\n",
    "This process may take a few minutes to complete.\n",
    "On a M1 Max MacBook, the restoration process took approximately 18 minutes."
   ]
  },
  {
   "cell_type": "code",
   "execution_count": null,
   "id": "fc2b8078094326a0",
   "metadata": {
    "ExecuteTime": {
     "end_time": "2025-03-24T09:02:21.378864Z",
     "start_time": "2025-03-24T08:44:16.424627Z"
    }
   },
   "outputs": [],
   "source": [
    "restore_command = (\n",
    "    f\"docker exec -i {MYSQL_CONTAINER_NAME} mysql -u{MYSQL_USER} {MYSQL_DATABASE} < {DUMP_FILE_PATH}\"\n",
    ")\n",
    "success_status = os.system(restore_command)\n",
    "\n",
    "print(\"Database restoration complete!\" if success_status == 0 else \"Database restoration failed!\")\n"
   ]
  }
 ],
 "metadata": {
  "kernelspec": {
   "display_name": "Python 3",
   "language": "python",
   "name": "python3"
  },
  "language_info": {
   "codemirror_mode": {
    "name": "ipython",
    "version": 2
   },
   "file_extension": ".py",
   "mimetype": "text/x-python",
   "name": "python",
   "nbconvert_exporter": "python",
   "pygments_lexer": "ipython2",
   "version": "2.7.6"
  }
 },
 "nbformat": 4,
 "nbformat_minor": 5
}
