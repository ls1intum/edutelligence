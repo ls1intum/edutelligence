{
 "cells": [
  {
   "cell_type": "markdown",
   "id": "da63c25fa058e369",
   "metadata": {},
   "source": [
    "## Expert Evaluation\n",
    "Conduct the expert evaluation by importing the json files from `data/3_submissions_with_categorized_feedback_jsons` into a new expert evaluation in the playground. Download the results as well as the evaluation configuration.\n",
    "Save the downloaded files in the `data/4_expert_evaluation` directory."
   ]
  },
  {
   "cell_type": "code",
   "execution_count": null,
   "id": "5cce8af2",
   "metadata": {
    "ExecuteTime": {
     "end_time": "2025-03-24T14:46:53.071736Z",
     "start_time": "2025-03-24T14:46:53.062932Z"
    }
   },
   "outputs": [],
   "source": [
    "import os\n",
    "import re\n",
    "import json\n",
    "import pandas as pd\n",
    "\n",
    "def extract_selected_values(data, expert_id):\n",
    "    \"\"\"Extracts nested selected_values data into a flat structure.\"\"\"\n",
    "    rows = []\n",
    "\n",
    "    selected_values = data.get(\"selected_values\", {})\n",
    "    for exercise_id, submissions in selected_values.items():\n",
    "        for submission_id, metrics in submissions.items():\n",
    "            for feedback_type_pseudo, score_dict in metrics.items():\n",
    "                for metric_id, value in score_dict.items():\n",
    "                    rows.append({\n",
    "                        \"expert_id\": expert_id,\n",
    "                        \"exercise_id\": exercise_id,\n",
    "                        \"submission_id\": submission_id,\n",
    "                        \"metric_id\": metric_id,\n",
    "                        \"feedback_type_pseudo\": feedback_type_pseudo,\n",
    "                        \"value\": value,\n",
    "                        \"has_started_evaluating\": data.get(\"has_started_evaluating\"),\n",
    "                        \"is_finished_evaluating\": data.get(\"is_finished_evaluating\"),\n",
    "                        \"current_submission_index\": data.get(\"current_submission_index\"),\n",
    "                        \"current_exercise_index\": data.get(\"current_exercise_index\")\n",
    "                    })\n",
    "    return rows\n",
    "\n",
    "data_rows = []\n",
    "data_dir = \"data/4_expert_evaluation\"\n",
    "\n",
    "for file in os.listdir(data_dir):\n",
    "    if file.endswith(\".json\") and file.startswith(\"evaluation_progress\"):\n",
    "        with open(os.path.join(data_dir, file), \"r\") as f:\n",
    "            expert_id = re.split(r\"_|\\.\", file)[2]  # Extract numeric key\n",
    "            json_data = json.load(f)\n",
    "            data_rows.extend(extract_selected_values(json_data, expert_id))\n",
    "\n",
    "data = pd.DataFrame(data_rows)"
   ]
  },
  {
   "cell_type": "code",
   "execution_count": null,
   "id": "b7408c58df049c7d",
   "metadata": {
    "ExecuteTime": {
     "end_time": "2025-03-24T14:46:53.091721Z",
     "start_time": "2025-03-24T14:46:53.081976Z"
    }
   },
   "outputs": [],
   "source": [
    "data"
   ]
  },
  {
   "cell_type": "code",
   "execution_count": null,
   "id": "711b9080b5ec7eee",
   "metadata": {
    "ExecuteTime": {
     "end_time": "2025-03-24T14:46:53.122675Z",
     "start_time": "2025-03-24T14:46:53.118459Z"
    }
   },
   "outputs": [],
   "source": [
    "import os\n",
    "import json\n",
    "import pandas as pd\n",
    "\n",
    "def extract_metrics_and_mappings(data, evaluation_id):\n",
    "    \"\"\"Extracts metrics and mappings from the evaluation config.\"\"\"\n",
    "    metrics_rows = []\n",
    "    mappings_rows = []\n",
    "\n",
    "    # Extract metrics\n",
    "    for metric in data.get(\"metrics\", []):\n",
    "        metrics_rows.append({\n",
    "            \"metric_id\": metric.get(\"id\"),\n",
    "            \"title\": metric.get(\"title\"),\n",
    "            \"summary\": metric.get(\"summary\"),\n",
    "            \"description\": metric.get(\"description\")\n",
    "        })\n",
    "\n",
    "    # Extract mappings\n",
    "    for feedback_type_pseudo, feedback_type in data.get(\"mappings\", {}).items():\n",
    "        mappings_rows.append({\n",
    "            \"feedback_type_pseudo\": feedback_type_pseudo,\n",
    "            \"feedback_type\": feedback_type\n",
    "        })\n",
    "\n",
    "    return metrics_rows, mappings_rows\n",
    "\n",
    "# Process JSON files\n",
    "metrics_rows = []\n",
    "mappings_rows = []\n",
    "data_dir = \"data/4_expert_evaluation\"\n",
    "evaluation_config_files = [file for file in os.listdir(data_dir) if file.endswith(\".json\") and file.startswith(\"evaluation_config\")]\n",
    "\n",
    "# Check if there is exactly one evaluation_config file\n",
    "if len(evaluation_config_files) != 1:\n",
    "    raise ValueError(f\"Expected exactly one 'evaluation_config' file, but found {len(evaluation_config_files)}.\")\n",
    "\n",
    "# Process the single evaluation_config file\n",
    "evaluation_config_file = evaluation_config_files[0]\n",
    "with open(os.path.join(data_dir, evaluation_config_file), \"r\") as f:\n",
    "    json_data = json.load(f)\n",
    "    metrics, mappings = extract_metrics_and_mappings(json_data, expert_id)\n",
    "    metrics_rows.extend(metrics)\n",
    "    mappings_rows.extend(mappings)\n",
    "\n",
    "# Convert lists to DataFrames\n",
    "metrics = pd.DataFrame(metrics_rows)\n",
    "mappings = pd.DataFrame(mappings_rows)"
   ]
  },
  {
   "cell_type": "code",
   "execution_count": null,
   "id": "2e2e7ee62f6905f6",
   "metadata": {
    "ExecuteTime": {
     "end_time": "2025-03-24T14:46:53.147769Z",
     "start_time": "2025-03-24T14:46:53.144352Z"
    }
   },
   "outputs": [],
   "source": [
    "metrics"
   ]
  },
  {
   "cell_type": "code",
   "execution_count": null,
   "id": "7db691a558f565aa",
   "metadata": {
    "ExecuteTime": {
     "end_time": "2025-03-24T14:46:53.188112Z",
     "start_time": "2025-03-24T14:46:53.184965Z"
    }
   },
   "outputs": [],
   "source": [
    "mappings"
   ]
  },
  {
   "cell_type": "code",
   "execution_count": null,
   "id": "969c517f10826ae0",
   "metadata": {
    "ExecuteTime": {
     "end_time": "2025-03-24T14:46:53.232643Z",
     "start_time": "2025-03-24T14:46:53.229037Z"
    }
   },
   "outputs": [],
   "source": [
    "# Join mappings, metrics, and data\n",
    "data = data.merge(mappings, on=\"feedback_type_pseudo\")\n",
    "data = data.merge(metrics, on=\"metric_id\")"
   ]
  },
  {
   "cell_type": "code",
   "execution_count": null,
   "id": "79f1ced5b6894c6e",
   "metadata": {
    "ExecuteTime": {
     "end_time": "2025-03-24T14:46:53.271672Z",
     "start_time": "2025-03-24T14:46:53.265101Z"
    }
   },
   "outputs": [],
   "source": [
    "data"
   ]
  }
 ],
 "metadata": {
  "jupytext": {
   "formats": "ipynb,py:percent"
  },
  "kernelspec": {
   "display_name": "Python 3",
   "language": "python",
   "name": "python3"
  }
 },
 "nbformat": 4,
 "nbformat_minor": 5
}
