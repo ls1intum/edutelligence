{
 "cells": [
  {
   "cell_type": "markdown",
   "id": "da63c25fa058e369",
   "metadata": {},
   "source": [
    "## Expert Evaluation\n",
    "Conduct the expert evaluation by importing the json files from `data/3_submissions_with_categorized_feedback_jsons` into a new expert evaluation in the playground. Download the results of the completed expert evaluation as well as the evaluation configuration.\n",
    "Save the downloaded files in the `data/4_expert_evaluation` directory."
   ]
  },
  {
   "cell_type": "markdown",
   "id": "1bb6dca361c6470",
   "metadata": {},
   "source": [
    "### Read Expert Evaluation\n",
    "Once you have saved the expert evaluation results and the config file in the `data/4_expert_evaluation` directory, run the following cell to read the expert evaluation results into a DataFrame."
   ]
  },
  {
   "cell_type": "code",
   "execution_count": null,
   "id": "5cce8af2",
   "metadata": {
    "ExecuteTime": {
     "end_time": "2025-04-07T05:11:10.411336Z",
     "start_time": "2025-04-07T05:11:10.405091Z"
    }
   },
   "outputs": [],
   "source": [
    "from athena.evaluation.service.json_service import read_expert_evaluation\n",
    "\n",
    "data_dir = \"data/4_expert_evaluation\"\n",
    "\n",
    "expert_evaluations = read_expert_evaluation(data_dir)\n",
    "expert_evaluations[\"evaluation_type\"] = \"expert\""
   ]
  },
  {
   "cell_type": "markdown",
   "id": "92fb7f7e831e15b6",
   "metadata": {},
   "source": [
    "### Save the Expert Evaluation\n",
    "Save the expert evaluation results to a CSV file for further analysis and processing in the following steps."
   ]
  },
  {
   "cell_type": "code",
   "execution_count": null,
   "id": "c192444bb1bcec83",
   "metadata": {
    "ExecuteTime": {
     "end_time": "2025-04-07T05:13:58.725330Z",
     "start_time": "2025-04-07T05:13:58.718369Z"
    }
   },
   "outputs": [],
   "source": [
    "expert_evaluations.to_csv(\"data/4_expert_evaluation/expert_evaluation.csv\", index=False)"
   ]
  }
 ],
 "metadata": {
  "jupytext": {
   "formats": "ipynb,py:percent"
  },
  "kernelspec": {
   "display_name": "Python 3",
   "language": "python",
   "name": "python3"
  }
 },
 "nbformat": 4,
 "nbformat_minor": 5
}
