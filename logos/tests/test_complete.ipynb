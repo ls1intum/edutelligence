{
 "cells": [
  {
   "metadata": {},
   "cell_type": "markdown",
   "source": [
    "### Complete Testrun of Logos Service\n",
    "This notebook provides a complete testrun of logos. It has own models, classifies them under real conditions and sends requests to the k >= 1 most suitable models."
   ],
   "id": "78cd57d15606d90e"
  },
  {
   "metadata": {
    "ExecuteTime": {
     "end_time": "2025-07-07T12:57:11.105400Z",
     "start_time": "2025-07-07T12:57:11.099188Z"
    }
   },
   "cell_type": "code",
   "source": [
    "from logos.classification.classification_manager import ClassificationManager\n",
    "from logos.scheduling.scheduling_fcfs import FCFSScheduler\n",
    "from logos.scheduling.scheduling_manager import SchedulingManager\n",
    "from pprint import pprint"
   ],
   "id": "b335d7c1ac86d8c3",
   "outputs": [],
   "execution_count": 11
  },
  {
   "metadata": {
    "ExecuteTime": {
     "end_time": "2025-07-07T12:46:34.704471Z",
     "start_time": "2025-07-07T12:46:34.701062Z"
    }
   },
   "cell_type": "code",
   "source": [
    "policy = {\n",
    "    \"id\": 0,\n",
    "    \"name\": \"lax_all\",\n",
    "    \"entity_id\": 0,\n",
    "    \"description\": \"Somehow all LLMs that come into mind\",\n",
    "    \"threshold_privacy\": \"LOCAL\",\n",
    "    \"threshold_latency\": 0,\n",
    "    \"threshold_accuracy\": 0,\n",
    "    \"threshold_cost\": -32,\n",
    "    \"threshold_quality\": 0,\n",
    "    \"priority\": 255,\n",
    "    \"topic\": \"\",\n",
    "}"
   ],
   "id": "3d16d750b5a70359",
   "outputs": [],
   "execution_count": 2
  },
  {
   "metadata": {
    "ExecuteTime": {
     "end_time": "2025-07-07T12:46:42.454940Z",
     "start_time": "2025-07-07T12:46:36.880155Z"
    }
   },
   "cell_type": "code",
   "source": [
    "from test_model_data import prepare_model_data\n",
    "models = prepare_model_data()\n",
    "classifier = ClassificationManager(models)\n",
    "sm = SchedulingManager(FCFSScheduler())\n",
    "sm.run()"
   ],
   "id": "32d02e42bc6dbb7a",
   "outputs": [
    {
     "name": "stderr",
     "output_type": "stream",
     "text": [
      "2025-07-07 14:46:37,323 - INFO - Load pretrained SentenceTransformer: all-MiniLM-L6-v2\n"
     ]
    },
    {
     "name": "stdout",
     "output_type": "stream",
     "text": [
      "Model Handler Started: 0.00ms\n"
     ]
    }
   ],
   "execution_count": 3
  },
  {
   "metadata": {
    "ExecuteTime": {
     "end_time": "2025-07-07T12:49:15.652933Z",
     "start_time": "2025-07-07T12:49:15.641618Z"
    }
   },
   "cell_type": "code",
   "source": "prompt = \"Give me a correct mathematical proof that the sum from i = 1 to n over i equals n * (n + 1) / 2\"",
   "id": "c1a4d157b80da1c8",
   "outputs": [],
   "execution_count": 4
  },
  {
   "metadata": {
    "ExecuteTime": {
     "end_time": "2025-07-07T12:49:16.724563Z",
     "start_time": "2025-07-07T12:49:16.645356Z"
    }
   },
   "cell_type": "code",
   "source": "results = classifier.classify(prompt, policy)",
   "id": "fd01bd7f849db331",
   "outputs": [
    {
     "name": "stdout",
     "output_type": "stream",
     "text": [
      "Latency weight for model 2 is: 0.008162571153159891\n",
      "Latency weight for model 3 is: 0.8320183851339245\n",
      "Latency weight for model 4 is: 0.039165722796764356\n",
      "Latency weight for model 5 is: 0.0016588010801744217\n",
      "Latency weight for model 6 is: 0.9918374288468401\n",
      "Latency weight for model 7 is: 0.9983411989198255\n",
      "Latency weight for model 8 is: 0.16798161486607552\n",
      "Accuracy weight for model 2 is: 0.8320183851339245\n",
      "Accuracy weight for model 3 is: 0.16798161486607552\n",
      "Accuracy weight for model 4 is: 0.9918374288468401\n",
      "Accuracy weight for model 5 is: 0.9608342772032357\n",
      "Accuracy weight for model 6 is: 0.008162571153159891\n",
      "Accuracy weight for model 7 is: 0.0016588010801744217\n",
      "Accuracy weight for model 8 is: 0.5\n",
      "Quality weight for model 2 is: 0.8320183851339245\n",
      "Quality weight for model 3 is: 0.16798161486607552\n",
      "Quality weight for model 4 is: 0.9918374288468401\n",
      "Quality weight for model 5 is: 0.9608342772032357\n",
      "Quality weight for model 6 is: 0.008162571153159891\n",
      "Quality weight for model 7 is: 0.0016588010801744217\n",
      "Quality weight for model 8 is: 0.5\n",
      "Token weight for model 2 is: 0.0\n",
      "Token weight for model 3 is: 0.0\n",
      "Token weight for model 4 is: 0.0\n",
      "Token weight for model 5 is: 0.0\n",
      "Token weight for model 6 is: 0.0\n",
      "Token weight for model 7 is: 0.0\n",
      "Token weight for model 8 is: 0.0\n"
     ]
    },
    {
     "data": {
      "text/plain": [
       "Batches:   0%|          | 0/1 [00:00<?, ?it/s]"
      ],
      "application/vnd.jupyter.widget-view+json": {
       "version_major": 2,
       "version_minor": 0,
       "model_id": "1e216096f06f4d49912c02deb167c372"
      }
     },
     "metadata": {},
     "output_type": "display_data"
    },
    {
     "name": "stdout",
     "output_type": "stream",
     "text": [
      "Laura weight for model 2 is: 0.08249470591545105\n",
      "Laura weight for model 3 is: 0.038674186915159225\n",
      "Laura weight for model 4 is: -0.001292182132601738\n",
      "Laura weight for model 5 is: 0.08215582370758057\n",
      "Laura weight for model 6 is: -0.012375056743621826\n",
      "Laura weight for model 7 is: -0.0012808702886104584\n",
      "Laura weight for model 8 is: 0.07859420031309128\n"
     ]
    }
   ],
   "execution_count": 5
  },
  {
   "metadata": {
    "ExecuteTime": {
     "end_time": "2025-07-07T12:49:18.695828Z",
     "start_time": "2025-07-07T12:49:18.580848Z"
    }
   },
   "cell_type": "code",
   "source": [
    "tid = sm.add_request(dict(), results)\n",
    "\n",
    "# Wait for this task to be executed\n",
    "while not sm.is_finished(tid):\n",
    "    pass\n",
    "\n",
    "out = sm.get_result()"
   ],
   "id": "1146232a9f9a9371",
   "outputs": [],
   "execution_count": 6
  },
  {
   "metadata": {
    "ExecuteTime": {
     "end_time": "2025-07-07T12:50:31.479841Z",
     "start_time": "2025-07-07T12:50:31.460321Z"
    }
   },
   "cell_type": "code",
   "source": "print(out.models)",
   "id": "bb1696904fcdd194",
   "outputs": [
    {
     "name": "stdout",
     "output_type": "stream",
     "text": [
      "[(5, 2.087639002901807, 255, 256), (4, 2.020256216225241, 255, 256), (2, 1.8371887532519109, 255, 256), (8, 1.325170015492258, 255, 256), (3, 1.245329988696394, 255, 256), (7, 0.9990970605029534, 255, 256), (6, 0.9834124576659162, 255, 256)]\n"
     ]
    }
   ],
   "execution_count": 7
  },
  {
   "metadata": {
    "ExecuteTime": {
     "end_time": "2025-07-07T12:50:35.258645Z",
     "start_time": "2025-07-07T12:50:35.242483Z"
    }
   },
   "cell_type": "code",
   "source": [
    "with open(\"key.txt\", \"r\") as f:\n",
    "    lines = f.readlines()\n",
    "    azure_key_0 = lines[0].strip().replace(\"\\t\", \"\").replace(\"\\n\", \"\")\n",
    "    azure_key_1 = lines[1].strip().replace(\"\\t\", \"\").replace(\"\\n\", \"\")\n",
    "    openwebui_key = lines[2].strip().replace(\"\\t\", \"\").replace(\"\\n\", \"\")"
   ],
   "id": "1274fc580503a21c",
   "outputs": [],
   "execution_count": 8
  },
  {
   "metadata": {
    "ExecuteTime": {
     "end_time": "2025-07-07T13:05:39.972677Z",
     "start_time": "2025-07-07T13:05:39.962525Z"
    }
   },
   "cell_type": "code",
   "source": [
    "import test_model_data\n",
    "import importlib\n",
    "importlib.reload(test_model_data)\n",
    "from test_model_data import get_from_id, test_send_to_azure, create_html, test_send_to_webui"
   ],
   "id": "7ed054737c1ed148",
   "outputs": [],
   "execution_count": 21
  },
  {
   "metadata": {},
   "cell_type": "code",
   "outputs": [
    {
     "name": "stdout",
     "output_type": "stream",
     "text": [
      "Model qwen3:30b-a3b sent to Openwebui\n",
      "Model llama3.3:latest sent to Openwebui\n",
      "Model deepseek-r1:70b sent to Openwebui\n",
      "Model qwen3:32b sent to Openwebui\n",
      "Model gemma3:27b sent to Openwebui\n",
      "Model gemma3:4b sent to Openwebui\n",
      "Model tinyllama:latest sent to Openwebui\n"
     ]
    }
   ],
   "execution_count": 9,
   "source": [
    "import time\n",
    "\n",
    "data = dict()\n",
    "\n",
    "for index, tpl in enumerate(out.models):\n",
    "    model = get_from_id(models, tpl[0])\n",
    "    if tpl[0] in (0, 1):\n",
    "        s = time.time()\n",
    "        response = test_send_to_azure(model, prompt, azure_key_0 if tpl[0] == 0 else azure_key_1)\n",
    "        latency = time.time() - s\n",
    "        print(f\"Model {model['name']} sent to Azure\")\n",
    "    else:\n",
    "        s = time.time()\n",
    "        response = test_send_to_webui(model, prompt, openwebui_key)\n",
    "        latency = time.time() - s\n",
    "        print(f\"Model {model['name']} sent to Openwebui\")\n",
    "    try:\n",
    "        data[model['name']] = f\"Place {index}: \" + response[\"choices\"][0][\"message\"][\"content\"], tpl[1], latency, get_from_id(classifier.filtered, tpl[0])[\"classification_weight\"]\n",
    "        # pprint(response[\"choices\"][0][\"message\"][\"content\"])\n",
    "    except:\n",
    "        pprint(response)\n",
    "    # print()\n",
    "    # print()\n",
    "    "
   ],
   "id": "dc9ec2de2708eb9d"
  },
  {
   "metadata": {
    "ExecuteTime": {
     "end_time": "2025-07-07T13:05:43.270270Z",
     "start_time": "2025-07-07T13:05:43.082328Z"
    }
   },
   "cell_type": "code",
   "source": "create_html(data, prompt)",
   "id": "2616a0c00eeb4ea9",
   "outputs": [
    {
     "name": "stdout",
     "output_type": "stream",
     "text": [
      "HTML successfully exported\n"
     ]
    }
   ],
   "execution_count": 22
  },
  {
   "metadata": {},
   "cell_type": "markdown",
   "source": [
    ""
   ],
   "id": "dd52838de55c8a5a"
  },
  {
   "metadata": {
    "ExecuteTime": {
     "end_time": "2025-07-06T21:51:35.145282Z",
     "start_time": "2025-07-06T21:51:35.139663Z"
    }
   },
   "cell_type": "code",
   "source": "models[3]",
   "id": "50d1f5835ab4734d",
   "outputs": [
    {
     "data": {
      "text/plain": [
       "{'id': 3,\n",
       " 'name': 'gemma3:27b',\n",
       " 'endpoint': 'https://gpu.aet.cit.tum.de/api/chat/completions',\n",
       " 'api_id': 1,\n",
       " 'weight_privacy': 'LOCAL',\n",
       " 'tags': '#conversational-AI #natural-language-understanding #explanation-generation #general-purpose #chatbot',\n",
       " 'parallel': 256,\n",
       " 'description': 'Strong in conversational AI, natural language understanding, and generating detailed explanations',\n",
       " 'classification_weight': <logos.classification.classification_balancer.Balancer at 0x1bfbe5291f0>,\n",
       " 'weight_cost': 16,\n",
       " 'weight_accuracy': -8,\n",
       " 'weight_quality': -8,\n",
       " 'weight_latency': 8}"
      ]
     },
     "execution_count": 13,
     "metadata": {},
     "output_type": "execute_result"
    }
   ],
   "execution_count": 13
  },
  {
   "metadata": {},
   "cell_type": "code",
   "source": "sm.stop()",
   "id": "b0aaff1ba7bef7a3",
   "outputs": [],
   "execution_count": null
  },
  {
   "metadata": {},
   "cell_type": "code",
   "source": "from test_model_data import test_send_to_webui",
   "id": "c44b35874decc9bc",
   "outputs": [],
   "execution_count": null
  },
  {
   "metadata": {},
   "cell_type": "code",
   "source": [
    "response = test_send_to_webui(\"\", prompt, openwebui_key)\n",
    "print(f\"Model xxx sent to Webui:\")\n",
    "try:\n",
    "    pprint(response)\n",
    "except:\n",
    "    pprint(response)"
   ],
   "id": "5e1a37d73481b5a6",
   "outputs": [],
   "execution_count": null
  },
  {
   "metadata": {},
   "cell_type": "code",
   "source": [
    "import requests\n",
    "\n",
    "\n",
    "def chat_with_model(token):\n",
    "    url = 'https://gpu.aet.cit.tum.de/api/chat/completions'\n",
    "    headers = {\n",
    "        'Authorization': f'Bearer {token}',\n",
    "        'Content-Type': 'application/json'\n",
    "    }\n",
    "    data = {\n",
    "      \"model\": \"deepseek-r1:70b\",\n",
    "      \"messages\": [\n",
    "        {\n",
    "          \"role\": \"user\",\n",
    "          \"content\": \"Tell me a short joke\"\n",
    "        }\n",
    "      ]\n",
    "    }\n",
    "    response = requests.post(url, headers=headers, json=data)\n",
    "    return response.json()\n",
    "\n",
    "pprint(chat_with_model(openwebui_key))"
   ],
   "id": "1e32e1a1f531d493",
   "outputs": [],
   "execution_count": null
  },
  {
   "metadata": {},
   "cell_type": "code",
   "source": "",
   "id": "26a2b58d472afe09",
   "outputs": [],
   "execution_count": null
  }
 ],
 "metadata": {
  "kernelspec": {
   "display_name": "Python 3",
   "language": "python",
   "name": "python3"
  },
  "language_info": {
   "codemirror_mode": {
    "name": "ipython",
    "version": 2
   },
   "file_extension": ".py",
   "mimetype": "text/x-python",
   "name": "python",
   "nbconvert_exporter": "python",
   "pygments_lexer": "ipython2",
   "version": "2.7.6"
  }
 },
 "nbformat": 4,
 "nbformat_minor": 5
}
