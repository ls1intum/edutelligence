{
 "cells": [
  {
   "metadata": {},
   "cell_type": "markdown",
   "source": [
    "### Complete Testrun of Logos Service\n",
    "This notebook provides a complete testrun of logos. It has own models, classifies them under real conditions and sends requests to the k >= 1 most suitable models."
   ],
   "id": "78cd57d15606d90e"
  },
  {
   "metadata": {},
   "cell_type": "code",
   "source": [
    "from logos.classification.classification_manager import ClassificationManager\n",
    "from logos.scheduling.scheduling_fcfs import FCFSScheduler\n",
    "from logos.scheduling.scheduling_manager import SchedulingManager\n",
    "from pprint import pprint"
   ],
   "id": "b335d7c1ac86d8c3",
   "outputs": [],
   "execution_count": null
  },
  {
   "metadata": {},
   "cell_type": "code",
   "source": [
    "policy = {\n",
    "    \"id\": 0,\n",
    "    \"name\": \"lax_all\",\n",
    "    \"entity_id\": 0,\n",
    "    \"description\": \"Somehow all LLMs that come into mind\",\n",
    "    \"threshold_privacy\": \"CLOUD_NOT_IN_EU_BY_US_PROVIDER\",\n",
    "    \"threshold_latency\": 32,\n",
    "    \"threshold_accuracy\": 32,\n",
    "    \"threshold_cost\": -32,\n",
    "    \"threshold_quality\": 32,\n",
    "    \"priority\": 255,\n",
    "    \"topic\": \"\",\n",
    "}"
   ],
   "id": "3d16d750b5a70359",
   "outputs": [],
   "execution_count": null
  },
  {
   "metadata": {},
   "cell_type": "code",
   "source": [
    "from test_model_data import prepare_model_data\n",
    "models = prepare_model_data()\n",
    "classifier = ClassificationManager(models)\n",
    "sm = SchedulingManager(FCFSScheduler())\n",
    "sm.run()"
   ],
   "id": "32d02e42bc6dbb7a",
   "outputs": [],
   "execution_count": null
  },
  {
   "metadata": {},
   "cell_type": "code",
   "source": "prompt = \"Tell me a short joke\"",
   "id": "c1a4d157b80da1c8",
   "outputs": [],
   "execution_count": null
  },
  {
   "metadata": {},
   "cell_type": "code",
   "source": "results = classifier.classify(prompt, policy)",
   "id": "fd01bd7f849db331",
   "outputs": [],
   "execution_count": null
  },
  {
   "metadata": {},
   "cell_type": "code",
   "source": [
    "tid = sm.add_request(dict(), results)\n",
    "\n",
    "# Wait for this task to be executed\n",
    "while not sm.is_finished(tid):\n",
    "    pass\n",
    "\n",
    "out = sm.get_result()"
   ],
   "id": "1146232a9f9a9371",
   "outputs": [],
   "execution_count": null
  },
  {
   "metadata": {},
   "cell_type": "code",
   "source": "print(out.models)",
   "id": "bb1696904fcdd194",
   "outputs": [],
   "execution_count": null
  },
  {
   "metadata": {},
   "cell_type": "code",
   "source": [
    "with open(\"key.txt\", \"r\") as f:\n",
    "    key = f.readline().strip().replace(\"\\t\", \"\").replace(\"\\n\", \"\")"
   ],
   "id": "1274fc580503a21c",
   "outputs": [],
   "execution_count": null
  },
  {
   "metadata": {},
   "cell_type": "code",
   "source": [
    "from test_model_data import get_from_id, test_send_to_azure, create_html, test_send_to_webui\n",
    "\n",
    "data = dict()\n",
    "\n",
    "for tpl in out.models:\n",
    "    model = get_from_id(models, tpl[0])\n",
    "    if tpl[0] in (0, 1):\n",
    "        response = test_send_to_azure(model, prompt, key if tpl[0] == 0 else \"\")\n",
    "        print(f\"Model {model['name']} sent to Azure\")\n",
    "    else:\n",
    "        response = test_send_to_webui(model, prompt, key if tpl[0] == 0 else \"\")\n",
    "        print(f\"Model {model['name']} sent to Openwebui\")\n",
    "    try:\n",
    "        data[model['name']] = response[\"choices\"][0][\"message\"][\"content\"]\n",
    "        # pprint(response[\"choices\"][0][\"message\"][\"content\"])\n",
    "    except:\n",
    "        pprint(response)\n",
    "    # print()\n",
    "    # print()\n",
    "    "
   ],
   "id": "dc9ec2de2708eb9d",
   "outputs": [],
   "execution_count": null
  },
  {
   "metadata": {},
   "cell_type": "code",
   "source": "data",
   "id": "a58fc60014f46d3a",
   "outputs": [],
   "execution_count": null
  },
  {
   "metadata": {},
   "cell_type": "code",
   "source": [
    "\n",
    "create_html(data)"
   ],
   "id": "2616a0c00eeb4ea9",
   "outputs": [],
   "execution_count": null
  },
  {
   "metadata": {},
   "cell_type": "code",
   "source": "sm.stop()",
   "id": "b0aaff1ba7bef7a3",
   "outputs": [],
   "execution_count": null
  },
  {
   "metadata": {},
   "cell_type": "code",
   "source": [
    "from test_model_data import test_send_to_webui\n",
    "openwebui = \"\""
   ],
   "id": "c44b35874decc9bc",
   "outputs": [],
   "execution_count": null
  },
  {
   "metadata": {},
   "cell_type": "code",
   "source": [
    "response = test_send_to_webui(\"\", prompt, openwebui)\n",
    "print(f\"Model xxx sent to Webui:\")\n",
    "try:\n",
    "    pprint(response)\n",
    "except:\n",
    "    pprint(response)"
   ],
   "id": "5e1a37d73481b5a6",
   "outputs": [],
   "execution_count": null
  },
  {
   "metadata": {},
   "cell_type": "code",
   "source": [
    "import requests\n",
    "\n",
    "\n",
    "def chat_with_model(token):\n",
    "    url = 'https://gpu.aet.cit.tum.de/api/chat/completions'\n",
    "    headers = {\n",
    "        'Authorization': f'Bearer {token}',\n",
    "        'Content-Type': 'application/json'\n",
    "    }\n",
    "    data = {\n",
    "      \"model\": \"deepseek-r1:70b\",\n",
    "      \"messages\": [\n",
    "        {\n",
    "          \"role\": \"user\",\n",
    "          \"content\": \"Tell me a short joke\"\n",
    "        }\n",
    "      ]\n",
    "    }\n",
    "    response = requests.post(url, headers=headers, json=data)\n",
    "    return response.json()\n",
    "\n",
    "pprint(chat_with_model(openwebui))"
   ],
   "id": "1e32e1a1f531d493",
   "outputs": [],
   "execution_count": null
  },
  {
   "metadata": {},
   "cell_type": "code",
   "source": "",
   "id": "26a2b58d472afe09",
   "outputs": [],
   "execution_count": null
  }
 ],
 "metadata": {
  "kernelspec": {
   "display_name": "Python 3",
   "language": "python",
   "name": "python3"
  },
  "language_info": {
   "codemirror_mode": {
    "name": "ipython",
    "version": 2
   },
   "file_extension": ".py",
   "mimetype": "text/x-python",
   "name": "python",
   "nbconvert_exporter": "python",
   "pygments_lexer": "ipython2",
   "version": "2.7.6"
  }
 },
 "nbformat": 4,
 "nbformat_minor": 5
}
