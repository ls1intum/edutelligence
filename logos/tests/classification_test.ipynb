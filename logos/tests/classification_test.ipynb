{
 "cells": [
  {
   "cell_type": "code",
   "id": "569d7ab3",
   "metadata": {
    "ExecuteTime": {
     "end_time": "2025-07-05T17:39:01.558168Z",
     "start_time": "2025-07-05T17:38:54.523799Z"
    }
   },
   "source": [
    "from logos.classification.classification_manager import ClassificationManager\n",
    "from logos.classification.model_handler import ModelHandler\n",
    "\n",
    "import time"
   ],
   "outputs": [],
   "execution_count": 1
  },
  {
   "cell_type": "code",
   "id": "b83bdfb2",
   "metadata": {
    "ExecuteTime": {
     "end_time": "2025-07-05T17:39:02.444503Z",
     "start_time": "2025-07-05T17:39:02.435551Z"
    }
   },
   "source": [
    "from logos.classification.classification_balancer import Balancer\n",
    "\n",
    "models = [\n",
    "        {\"id\": 0,\n",
    "         \"name\": \"azure-gpt-4-omni\",\n",
    "         \"endpoint\": \"/gpt-4o/chat/completions?api-version=2024-08-01-preview\",\n",
    "         \"api_id\": 0,\n",
    "         \"weight_privacy\": \"CLOUD_NOT_IN_EU_BY_US_PROVIDER\",\n",
    "         \"tags\": \"#math;#chat\",\n",
    "         \"parallel\": 256,\n",
    "         \"description\": \"reasoning, advanced maths, coding\",\n",
    "         \"classification_weight\": Balancer(),\n",
    "         },\n",
    "        {\"id\": 1,\n",
    "         \"name\": \"o3-mini\",\n",
    "         \"endpoint\": \"/o3-mini/chat/completions?api-version=2024-12-01-preview\",\n",
    "         \"api_id\": 1,\n",
    "         \"weight_privacy\": \"CLOUD_NOT_IN_EU_BY_US_PROVIDER\",\n",
    "         \"tags\": \"#chat;#coding;#empathy;#life;#poetry;#geography\",\n",
    "         \"parallel\": 256,\n",
    "         \"description\": \"chat, question answering, writing, coding\",\n",
    "         \"classification_weight\": Balancer(),\n",
    "         },\n",
    "    ]\n"
   ],
   "outputs": [],
   "execution_count": 2
  },
  {
   "cell_type": "code",
   "id": "dd854287",
   "metadata": {
    "ExecuteTime": {
     "end_time": "2025-07-05T17:39:03.818249Z",
     "start_time": "2025-07-05T17:39:03.808956Z"
    }
   },
   "source": [
    "s = time.time()\n",
    "cost = ModelHandler(list())\n",
    "cost.add_model(None, 0)\n",
    "cost.add_model(None, 1)\n",
    "\n",
    "accuracy = ModelHandler(list())\n",
    "accuracy.add_model(None, 0)\n",
    "accuracy.add_model(None, 1)\n",
    "\n",
    "quality = ModelHandler(list())\n",
    "quality.add_model(None, 0)\n",
    "quality.add_model(None, 1)\n",
    "\n",
    "latency = ModelHandler(list())\n",
    "latency.add_model(None, 0)\n",
    "latency.add_model(0, 1)\n",
    "print(\"Model Handler Started: {:.2f}ms\".format((time.time() - s) * 1000))\n",
    "\n",
    "print(\"Cost\", cost.get_models())\n",
    "print(\"Accuracy\", accuracy.get_models())\n",
    "print(\"Quality\", quality.get_models())\n",
    "print(\"Latency\", latency.get_models())"
   ],
   "outputs": [
    {
     "name": "stdout",
     "output_type": "stream",
     "text": [
      "Model Handler Started: 0.00ms\n",
      "Cost [(-4, 1), (4, 0)]\n",
      "Accuracy [(-4, 1), (4, 0)]\n",
      "Quality [(-4, 1), (4, 0)]\n",
      "Latency [(-4, 0), (4, 1)]\n"
     ]
    }
   ],
   "execution_count": 3
  },
  {
   "cell_type": "code",
   "id": "803bea98",
   "metadata": {
    "ExecuteTime": {
     "end_time": "2025-07-05T17:39:05.044770Z",
     "start_time": "2025-07-05T17:39:05.040824Z"
    }
   },
   "source": [
    "for v, i in cost.get_models():\n",
    "    models[i][\"weight_cost\"] = v\n",
    "for v, i in accuracy.get_models():\n",
    "    models[i][\"weight_accuracy\"] = v\n",
    "for v, i in quality.get_models():\n",
    "    models[i][\"weight_quality\"] = v\n",
    "for v, i in latency.get_models():\n",
    "    models[i][\"weight_latency\"] = v"
   ],
   "outputs": [],
   "execution_count": 4
  },
  {
   "cell_type": "code",
   "id": "01b6813d",
   "metadata": {
    "ExecuteTime": {
     "end_time": "2025-07-05T17:39:05.900645Z",
     "start_time": "2025-07-05T17:39:05.880920Z"
    }
   },
   "source": [
    "policy = {\n",
    "    \"id\": 0,\n",
    "    \"name\": \"lax_all\",\n",
    "    \"entity_id\": 0,\n",
    "    \"description\": \"Somehow all LLMs that come into mind\",\n",
    "    \"threshold_privacy\": \"CLOUD_NOT_IN_EU_BY_US_PROVIDER\",\n",
    "    \"threshold_latency\": 4,\n",
    "    \"threshold_accuracy\": 4,\n",
    "    \"threshold_cost\": -4,\n",
    "    \"threshold_quality\": 4,\n",
    "    \"priority\": 255,\n",
    "    \"topic\": \"\",\n",
    "}"
   ],
   "outputs": [],
   "execution_count": 5
  },
  {
   "metadata": {
    "ExecuteTime": {
     "end_time": "2025-07-05T17:39:10.493782Z",
     "start_time": "2025-07-05T17:39:06.970523Z"
    }
   },
   "cell_type": "code",
   "source": [
    "s = time.time()\n",
    "classifier = ClassificationManager(models)\n",
    "print(\"Classification Manager started: {:.2f}ms\".format((time.time() - s) * 1000))"
   ],
   "id": "d560133debbd277a",
   "outputs": [
    {
     "name": "stdout",
     "output_type": "stream",
     "text": [
      "Classification Manager started: 3521.20ms\n"
     ]
    }
   ],
   "execution_count": 6
  },
  {
   "metadata": {
    "ExecuteTime": {
     "end_time": "2025-07-05T20:48:41.363960Z",
     "start_time": "2025-07-05T20:48:40.903010Z"
    }
   },
   "cell_type": "code",
   "source": [
    "s = time.time()\n",
    "prompt = \"Tell me a fun fact about the roman empire\"\n",
    "results = classifier.classify(prompt, policy)\n",
    "print(\"Classification finished in: {:.2f}ms\".format((time.time() - s) * 1000))"
   ],
   "id": "7febf457dad7fb54",
   "outputs": [
    {
     "name": "stdout",
     "output_type": "stream",
     "text": [
      "Latency weight for model 0 is: 0.16798161486607552\n",
      "Latency weight for model 1 is: 0.5\n",
      "Accuracy weight for model 0 is: 0.5\n",
      "Accuracy weight for model 1 is: 0.16798161486607552\n",
      "Quality weight for model 0 is: 0.5\n",
      "Quality weight for model 1 is: 0.16798161486607552\n",
      "Token weight for model 0 is: 0.0\n",
      "Token weight for model 1 is: 0.0\n",
      "tensor([-3.5556e-02,  7.1006e-03,  7.3745e-02,  2.7595e-02, -8.9129e-02,\n",
      "        -2.7758e-02,  2.4404e-02,  3.9917e-03, -1.3082e-01,  1.6316e-02,\n",
      "         7.5010e-02, -9.3414e-02, -1.3835e-02, -3.8455e-02, -1.2535e-01,\n",
      "        -1.6019e-01,  2.7984e-02,  2.6003e-02,  2.9090e-02,  1.1504e-02,\n",
      "         7.7546e-02, -7.6757e-02,  6.1760e-02, -2.6348e-02,  3.6615e-02,\n",
      "         2.0043e-02,  4.5466e-03, -1.1553e-02,  4.9050e-02, -6.6610e-03,\n",
      "         5.8409e-03,  5.3251e-02,  5.5141e-02, -6.8713e-02,  8.2041e-03,\n",
      "        -6.2590e-02,  9.1526e-02, -4.7934e-04,  1.0106e-01, -1.2960e-02,\n",
      "         2.2962e-02,  1.7249e-02,  8.6478e-02,  8.9021e-02, -1.1831e-02,\n",
      "        -4.2556e-04, -1.3189e-02,  6.4586e-02, -1.3225e-02,  9.7720e-02,\n",
      "         3.0129e-02,  5.8859e-02,  8.5034e-03,  5.4752e-03, -1.5071e-02,\n",
      "        -1.3470e-02, -5.8408e-02, -8.8254e-02,  1.8507e-03,  5.1332e-03,\n",
      "         2.1141e-02,  6.7563e-02, -6.0072e-03,  3.3178e-02, -6.8566e-02,\n",
      "        -6.7242e-02, -1.5173e-02,  1.8359e-02, -1.3819e-01, -6.0518e-03,\n",
      "        -1.6928e-02, -6.9217e-02, -1.2769e-02,  4.7315e-02, -6.1490e-02,\n",
      "         2.9236e-02,  8.0238e-03, -8.8273e-02, -4.8529e-02, -9.0405e-03,\n",
      "         2.1702e-03,  2.9788e-02, -1.4778e-02,  2.7758e-02,  8.7764e-03,\n",
      "        -1.3532e-02,  5.5784e-02, -8.9640e-02,  2.5623e-02, -5.0105e-02,\n",
      "         1.4819e-02,  9.6639e-04,  7.3158e-03, -2.8489e-02,  1.1119e-01,\n",
      "         4.9514e-02, -2.8395e-02,  5.9671e-02,  4.3310e-03,  2.0560e-02,\n",
      "        -2.1254e-03, -2.0630e-02,  2.5269e-02,  4.9760e-02, -3.7946e-02,\n",
      "         2.4568e-02, -4.0139e-02,  1.6091e-02, -1.9572e-02, -3.1264e-02,\n",
      "        -6.9095e-02, -4.2035e-02,  1.8544e-02, -1.1350e-01,  4.4479e-02,\n",
      "        -1.7377e-02,  2.8612e-03, -3.8720e-03, -5.3975e-02, -7.1716e-02,\n",
      "        -4.4899e-02, -1.1095e-02, -2.5989e-02,  3.2525e-02,  1.6837e-02,\n",
      "         1.6892e-02, -1.1780e-03, -4.2013e-33, -8.0296e-02, -9.8952e-02,\n",
      "        -3.7732e-02,  3.7285e-02, -1.2509e-03, -5.3208e-02, -3.4348e-02,\n",
      "        -7.1460e-02, -7.2711e-02,  3.9711e-02, -2.2273e-02, -1.7495e-02,\n",
      "        -4.0010e-02, -9.6776e-02,  3.5416e-02,  3.6674e-02, -1.1098e-02,\n",
      "        -1.5720e-02,  8.9031e-02, -6.0052e-02, -2.0027e-02,  3.3812e-02,\n",
      "         1.0418e-01, -3.4739e-02,  6.8244e-02,  2.7211e-02,  1.9848e-02,\n",
      "        -4.2463e-02,  4.4874e-02,  2.9966e-03,  5.4331e-03, -6.6537e-02,\n",
      "        -3.0255e-02, -3.8842e-02,  7.7478e-02,  4.7151e-02, -1.4368e-02,\n",
      "        -1.0841e-01, -2.1113e-02,  1.1605e-01, -6.1974e-02, -3.9241e-03,\n",
      "         4.5320e-02, -6.5095e-04,  4.5266e-03,  2.3635e-02, -2.0731e-03,\n",
      "        -9.3906e-02, -2.5064e-02, -1.0895e-02,  3.5420e-03,  4.6850e-02,\n",
      "         9.7191e-04, -4.3082e-02,  6.7602e-03,  3.8860e-02,  3.7197e-03,\n",
      "         4.1368e-02, -5.0326e-03,  1.0754e-01, -4.4650e-02,  3.0304e-02,\n",
      "        -2.4367e-02, -2.2264e-02,  9.7252e-03,  6.9056e-02, -5.4103e-02,\n",
      "         3.2306e-02, -1.3971e-02,  2.4243e-02, -3.9463e-02,  4.2250e-02,\n",
      "        -6.2533e-02, -4.7733e-02,  2.0523e-02,  1.3486e-01,  5.4265e-03,\n",
      "        -1.3137e-01, -1.1966e-01, -6.6185e-02, -4.6652e-03, -4.7009e-02,\n",
      "        -1.4154e-02,  2.2830e-02,  7.4592e-02, -3.1149e-02,  2.1966e-02,\n",
      "        -1.8663e-02,  2.4570e-03, -4.1442e-02, -8.0435e-04, -5.2894e-02,\n",
      "         2.5884e-02,  1.2393e-02, -4.8981e-02,  1.1081e-33, -1.0420e-01,\n",
      "        -2.0709e-02, -2.4249e-02,  3.1177e-02, -6.7157e-03,  1.7473e-02,\n",
      "        -9.4507e-02,  7.0061e-02, -7.3506e-02, -5.5991e-03,  1.9595e-02,\n",
      "         4.5014e-02,  7.3503e-03, -2.9893e-02,  7.7519e-03, -2.3228e-02,\n",
      "         1.1152e-01,  2.8429e-02, -1.1234e-01,  5.7101e-02,  2.0187e-02,\n",
      "         5.3882e-03, -8.2247e-02, -6.7928e-02, -6.5732e-02,  9.9084e-02,\n",
      "        -3.1500e-02, -2.0079e-02, -3.8973e-02,  8.0799e-03,  2.3195e-02,\n",
      "        -6.4067e-02, -4.6246e-02, -8.9255e-02,  7.2648e-02,  4.5103e-02,\n",
      "         6.0794e-02,  3.5858e-03,  1.8649e-02,  1.2438e-02, -8.3657e-04,\n",
      "         2.8468e-02,  1.0309e-01,  7.5720e-02,  2.9636e-03,  4.4454e-02,\n",
      "        -6.1788e-03,  6.0654e-02, -4.6845e-02,  6.1370e-02, -2.7435e-03,\n",
      "        -7.0216e-02,  7.4612e-02, -1.5712e-02,  2.5726e-02, -9.1860e-02,\n",
      "         3.4450e-02,  6.2770e-02, -7.9192e-03,  1.4086e-02, -2.8725e-02,\n",
      "         4.1071e-02, -4.8422e-02,  5.6555e-02,  2.9611e-02, -8.3564e-02,\n",
      "        -8.5953e-02,  2.4297e-02, -2.9415e-02, -1.0117e-02,  2.1187e-02,\n",
      "         5.9727e-03, -1.3204e-01,  6.8409e-02,  3.7503e-02,  8.5542e-02,\n",
      "         6.1371e-02, -5.2044e-02,  5.5520e-02,  6.4765e-02, -1.5800e-02,\n",
      "        -2.9492e-02,  6.9764e-03, -3.3671e-02,  1.7999e-02,  8.0882e-02,\n",
      "         3.0878e-02, -1.3798e-02,  8.3092e-02, -2.5815e-02,  5.1540e-02,\n",
      "        -4.8579e-02,  4.0943e-02, -9.1358e-02,  6.0664e-02, -1.6176e-08,\n",
      "        -3.0793e-02,  3.3025e-02,  4.9293e-02,  3.0286e-02, -8.5682e-03,\n",
      "        -3.3427e-02,  2.1761e-02, -2.4866e-03, -2.1150e-02,  1.0025e-04,\n",
      "         4.8696e-02,  5.6899e-02,  6.6852e-03, -4.1449e-02,  5.7761e-02,\n",
      "        -1.2652e-02, -5.6708e-03,  1.0901e-02,  1.6820e-03, -1.0833e-01,\n",
      "         1.4352e-02,  3.2420e-02, -9.1461e-03, -2.4372e-02, -7.8907e-02,\n",
      "        -2.4729e-02,  4.9480e-02,  1.7415e-02, -8.2822e-04,  1.0407e-02,\n",
      "         1.0107e-01, -1.5944e-02, -1.3898e-03, -1.0497e-01, -3.0706e-03,\n",
      "         1.0775e-02,  2.0945e-02, -4.3341e-02,  4.3569e-02, -8.2418e-02,\n",
      "        -2.4043e-02,  5.0244e-02,  2.2509e-02,  5.2842e-02,  1.1483e-02,\n",
      "         9.7481e-02,  6.0813e-02, -4.4319e-02,  2.5176e-02,  4.0927e-03,\n",
      "         1.7113e-02,  3.8845e-02,  7.0038e-02, -9.3891e-04, -8.6651e-03,\n",
      "        -9.1985e-02,  5.9450e-03,  6.5255e-02, -2.0006e-03, -3.0911e-02,\n",
      "         6.8487e-02,  3.1288e-02, -2.7517e-02,  7.5885e-02])\n",
      "Laura weight for model 0 is: 0.0808422714471817\n",
      "Laura weight for model 1 is: 0.1325145661830902\n",
      "Classification finished in: 425.07ms\n"
     ]
    }
   ],
   "execution_count": 9
  },
  {
   "metadata": {
    "ExecuteTime": {
     "end_time": "2025-07-05T20:48:42.446315Z",
     "start_time": "2025-07-05T20:48:42.439782Z"
    }
   },
   "cell_type": "code",
   "source": [
    "for result in results:\n",
    "    print(f\"Model {models[result[0]][\"name\"]} got weight {result[1]}\")"
   ],
   "id": "5c7166af8638a273",
   "outputs": [
    {
     "name": "stdout",
     "output_type": "stream",
     "text": [
      "Model azure-gpt-4-omni got weight 1.329666157760439\n",
      "Model o3-mini got weight 1.1009923620983315\n"
     ]
    }
   ],
   "execution_count": 10
  },
  {
   "metadata": {
    "ExecuteTime": {
     "end_time": "2025-07-05T17:35:58.080680Z",
     "start_time": "2025-07-05T17:35:58.076846Z"
    }
   },
   "cell_type": "code",
   "source": "",
   "id": "b896a350d3699a5c",
   "outputs": [],
   "execution_count": 8
  }
 ],
 "metadata": {
  "kernelspec": {
   "display_name": ".venv",
   "language": "python",
   "name": "python3"
  },
  "language_info": {
   "codemirror_mode": {
    "name": "ipython",
    "version": 3
   },
   "file_extension": ".py",
   "mimetype": "text/x-python",
   "name": "python",
   "nbconvert_exporter": "python",
   "pygments_lexer": "ipython3",
   "version": "3.12.8"
  }
 },
 "nbformat": 4,
 "nbformat_minor": 5
}
