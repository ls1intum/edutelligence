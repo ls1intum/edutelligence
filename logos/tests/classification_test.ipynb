{
 "cells": [
  {
   "cell_type": "code",
   "id": "569d7ab3",
   "metadata": {
    "jupyter": {
     "is_executing": true
    },
    "ExecuteTime": {
     "start_time": "2025-07-05T12:23:19.394099Z"
    }
   },
   "source": [
    "from logos.classification.classification_manager import ClassificationManager\n",
    "from logos.classification.model_handler import ModelHandler\n",
    "\n",
    "import time"
   ],
   "outputs": [],
   "execution_count": null
  },
  {
   "cell_type": "code",
   "id": "b83bdfb2",
   "metadata": {
    "jupyter": {
     "is_executing": true
    }
   },
   "source": [
    "from logos.classification.classification_balancer import Balancer\n",
    "\n",
    "models = [\n",
    "        {\"id\": 0,\n",
    "         \"name\": \"azure-gpt-4-omni\",\n",
    "         \"endpoint\": \"/gpt-4o/chat/completions?api-version=2024-08-01-preview\",\n",
    "         \"api_id\": 0,\n",
    "         \"weight_privacy\": \"CLOUD_NOT_IN_EU_BY_US_PROVIDER\",\n",
    "         \"tags\": \"#math;#coding\",\n",
    "         \"parallel\": 256,\n",
    "         \"description\": \"reasoning, advanced maths, coding\",\n",
    "         \"classification_weight\": Balancer(),\n",
    "         },\n",
    "        {\"id\": 1,\n",
    "         \"name\": \"o3-mini\",\n",
    "         \"endpoint\": \"/o3-mini/chat/completions?api-version=2024-12-01-preview\",\n",
    "         \"api_id\": 1,\n",
    "         \"weight_privacy\": \"CLOUD_NOT_IN_EU_BY_US_PROVIDER\",\n",
    "         \"tags\": \"#chat;#coding\",\n",
    "         \"parallel\": 256,\n",
    "         \"description\": \"chat, question answering, writing, coding\",\n",
    "         \"classification_weight\": Balancer(),\n",
    "         },\n",
    "    ]\n"
   ],
   "outputs": [],
   "execution_count": null
  },
  {
   "cell_type": "code",
   "id": "dd854287",
   "metadata": {
    "jupyter": {
     "is_executing": true
    }
   },
   "source": [
    "s = time.time()\n",
    "cost = ModelHandler(list())\n",
    "cost.add_model(None, 0)\n",
    "cost.add_model(None, 1)\n",
    "\n",
    "accuracy = ModelHandler(list())\n",
    "accuracy.add_model(None, 0)\n",
    "accuracy.add_model(None, 1)\n",
    "\n",
    "quality = ModelHandler(list())\n",
    "quality.add_model(None, 0)\n",
    "quality.add_model(None, 1)\n",
    "\n",
    "latency = ModelHandler(list())\n",
    "latency.add_model(None, 0)\n",
    "latency.add_model(0, 1)\n",
    "print(\"Model Handler Started: {:.2f}ms\".format((time.time() - s) * 1000))\n",
    "\n",
    "print(\"Cost\", cost.get_models())\n",
    "print(\"Accuracy\", accuracy.get_models())\n",
    "print(\"Quality\", quality.get_models())\n",
    "print(\"Latency\", latency.get_models())"
   ],
   "outputs": [],
   "execution_count": null
  },
  {
   "cell_type": "code",
   "id": "803bea98",
   "metadata": {
    "jupyter": {
     "is_executing": true
    }
   },
   "source": [
    "for v, i in cost.get_models():\n",
    "    models[i][\"weight_cost\"] = v\n",
    "for v, i in accuracy.get_models():\n",
    "    models[i][\"weight_accuracy\"] = v\n",
    "for v, i in quality.get_models():\n",
    "    models[i][\"weight_quality\"] = v\n",
    "for v, i in latency.get_models():\n",
    "    models[i][\"weight_latency\"] = v"
   ],
   "outputs": [],
   "execution_count": null
  },
  {
   "cell_type": "code",
   "id": "01b6813d",
   "metadata": {
    "jupyter": {
     "is_executing": true
    }
   },
   "source": [
    "policy = {\n",
    "    \"id\": 0,\n",
    "    \"name\": \"lax_all\",\n",
    "    \"entity_id\": 0,\n",
    "    \"description\": \"Somehow all LLMs that come into mind\",\n",
    "    \"threshold_privacy\": \"CLOUD_NOT_IN_EU_BY_US_PROVIDER\",\n",
    "    \"threshold_latency\": 4,\n",
    "    \"threshold_accuracy\": 4,\n",
    "    \"threshold_cost\": -4,\n",
    "    \"threshold_quality\": 4,\n",
    "    \"priority\": 255,\n",
    "    \"topic\": \"\",\n",
    "}"
   ],
   "outputs": [],
   "execution_count": null
  },
  {
   "metadata": {
    "jupyter": {
     "is_executing": true
    }
   },
   "cell_type": "code",
   "source": [
    "s = time.time()\n",
    "classifier = ClassificationManager(models)\n",
    "print(\"Classification Manager started: {:.2f}ms\".format((time.time() - s) * 1000))"
   ],
   "id": "d560133debbd277a",
   "outputs": [],
   "execution_count": null
  },
  {
   "metadata": {
    "jupyter": {
     "is_executing": true
    }
   },
   "cell_type": "code",
   "source": [
    "s = time.time()\n",
    "prompt = \"Let's chat a bit about our life :)\"\n",
    "results = classifier.classify(prompt, policy)\n",
    "print(\"Classification finished in: {:.2f}ms\".format((time.time() - s) * 1000))"
   ],
   "id": "7febf457dad7fb54",
   "outputs": [],
   "execution_count": null
  },
  {
   "metadata": {
    "jupyter": {
     "is_executing": true
    }
   },
   "cell_type": "code",
   "source": [
    "for result in results:\n",
    "    print(f\"Model {models[result[0]][\"name\"]} got weight {result[1]}\")"
   ],
   "id": "5c7166af8638a273",
   "outputs": [],
   "execution_count": null
  }
 ],
 "metadata": {
  "kernelspec": {
   "display_name": ".venv",
   "language": "python",
   "name": "python3"
  },
  "language_info": {
   "codemirror_mode": {
    "name": "ipython",
    "version": 3
   },
   "file_extension": ".py",
   "mimetype": "text/x-python",
   "name": "python",
   "nbconvert_exporter": "python",
   "pygments_lexer": "ipython3",
   "version": "3.12.8"
  }
 },
 "nbformat": 4,
 "nbformat_minor": 5
}
